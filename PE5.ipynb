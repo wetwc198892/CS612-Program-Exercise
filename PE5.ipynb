{
 "metadata": {
  "language_info": {
   "codemirror_mode": {
    "name": "ipython",
    "version": 3
   },
   "file_extension": ".py",
   "mimetype": "text/x-python",
   "name": "python",
   "nbconvert_exporter": "python",
   "pygments_lexer": "ipython3",
   "version": 3
  },
  "orig_nbformat": 2,
  "kernelspec": {
   "name": "python_defaultSpec_1597031770549",
   "display_name": "Python 3.8.5 64-bit"
  }
 },
 "nbformat": 4,
 "nbformat_minor": 2,
 "cells": [
  {
   "cell_type": "code",
   "execution_count": 1,
   "metadata": {},
   "outputs": [],
   "source": [
    "import pandas as pd"
   ]
  },
  {
   "cell_type": "code",
   "execution_count": 100,
   "metadata": {},
   "outputs": [],
   "source": [
    "users = pd.read_json('users.json')\n",
    "df_username = pd.DataFrame(users['username'].values.tolist())\n",
    "df_username.columns=['username']\n",
    "df_email = pd.DataFrame(users['email'].values.tolist())\n",
    "df_email.columns=['email']\n",
    "df_address = pd.DataFrame(users['address'].values.tolist())\n",
    "df_zipcode = pd.DataFrame(df_address['zipcode'].values.tolist())\n",
    "df_zipcode.columns = ['zipcode']\n",
    "df_geo = pd.DataFrame(df_address['geo'].values.tolist())\n",
    "df_lat = pd.DataFrame(df_geo['lat'].values.tolist())\n",
    "df_lat.columns = ['lat']\n",
    "df_lng = pd.DataFrame(df_geo['lng'].values.tolist())\n",
    "df_lng.columns = ['lng']\n",
    "df_company = pd.DataFrame(users['company'].values.tolist())\n",
    "df_company_name = pd.DataFrame(df_company['name'].values.tolist())\n",
    "df_company_name.columns = ['compan_name']\n",
    "df = pd.concat([df_username, df_email, df_zipcode,df_lat,df_lng,df_company_name],axis=1)\n",
    "df_a = df[(df['lng'].astype(str).astype(float) > 0) & (df['lat'].astype(str).astype(float) < 0)]\n",
    "df_a.to_csv('output.csv')"
   ]
  },
  {
   "cell_type": "code",
   "execution_count": null,
   "metadata": {},
   "outputs": [],
   "source": []
  }
 ]
}