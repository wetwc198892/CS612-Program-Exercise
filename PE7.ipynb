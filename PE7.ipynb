{
 "metadata": {
  "language_info": {
   "codemirror_mode": {
    "name": "ipython",
    "version": 3
   },
   "file_extension": ".py",
   "mimetype": "text/x-python",
   "name": "python",
   "nbconvert_exporter": "python",
   "pygments_lexer": "ipython3",
   "version": "3.8.5-final"
  },
  "orig_nbformat": 2,
  "kernelspec": {
   "name": "python_defaultSpec_1598510536401",
   "display_name": "Python 3.8.5 64-bit"
  }
 },
 "nbformat": 4,
 "nbformat_minor": 2,
 "cells": [
  {
   "cell_type": "code",
   "execution_count": 1,
   "metadata": {},
   "outputs": [],
   "source": [
    "import pandas as pd\n",
    "import numpy as np"
   ]
  },
  {
   "cell_type": "code",
   "execution_count": 3,
   "metadata": {},
   "outputs": [],
   "source": [
    "frame = pd.DataFrame(np.arange(12).reshape((4,3)), index=[['a','a','b','b'],[1,2,1,2]], columns = [['Ohio', 'Ohio', 'Colorado'], ['Green', 'Red', 'Green']])"
   ]
  },
  {
   "cell_type": "code",
   "execution_count": 4,
   "metadata": {},
   "outputs": [],
   "source": [
    "frame1 = frame.stack().stack()\n",
    "frame2 = frame.unstack().unstack()"
   ]
  },
  {
   "cell_type": "code",
   "execution_count": 5,
   "metadata": {},
   "outputs": [
    {
     "output_type": "execute_result",
     "data": {
      "text/plain": "a  1  Green  Colorado     2.0\n             Ohio         0.0\n      Red    Ohio         1.0\n   2  Green  Colorado     5.0\n             Ohio         3.0\n      Red    Ohio         4.0\nb  1  Green  Colorado     8.0\n             Ohio         6.0\n      Red    Ohio         7.0\n   2  Green  Colorado    11.0\n             Ohio         9.0\n      Red    Ohio        10.0\ndtype: float64"
     },
     "metadata": {},
     "execution_count": 5
    }
   ],
   "source": [
    "frame1"
   ]
  },
  {
   "cell_type": "code",
   "execution_count": 44,
   "metadata": {},
   "outputs": [
    {
     "output_type": "execute_result",
     "data": {
      "text/plain": "a  1  Green  Colorado     2\n             Ohio         0\n      Red    Ohio         1\n   2  Green  Colorado     5\n             Ohio         3\n      Red    Ohio         4\nb  1  Green  Colorado     8\n             Ohio         6\n      Red    Ohio         7\n   2  Green  Colorado    11\n             Ohio         9\n      Red    Ohio        10\ndtype: int32"
     },
     "metadata": {},
     "execution_count": 44
    }
   ],
   "source": [
    "frame2.swaplevel(0,3).sort_index()"
   ]
  },
  {
   "cell_type": "code",
   "execution_count": 45,
   "metadata": {},
   "outputs": [],
   "source": [
    "left = pd.DataFrame({'id': [1, 2, 3, 4, 5], 'Name1': ['Alex', 'Amy', 'Allen', 'Alice', 'Ayoung'], 'subject_id': ['sub1', 'sub2', 'sub4', 'sub6', 'sub5']})\n",
    "right = pd.DataFrame({'id': [1, 2, 3, 4, 5], 'Name2': ['Billy', 'Brian', 'Bran', 'Bryce', 'Betty'], 'subject_id': ['sub2', 'sub4', 'sub3', 'sub5', 'sub6']})"
   ]
  },
  {
   "cell_type": "code",
   "execution_count": 47,
   "metadata": {},
   "outputs": [
    {
     "output_type": "execute_result",
     "data": {
      "text/plain": "   id   Name1 subject_id  Name2\n0   1    Alex       sub1    NaN\n1   2     Amy       sub2    NaN\n2   3   Allen       sub4    NaN\n3   4   Alice       sub6    NaN\n4   5  Ayoung       sub5    NaN\n5   1     NaN       sub2  Billy\n6   2     NaN       sub4  Brian\n7   3     NaN       sub3   Bran\n8   4     NaN       sub5  Bryce\n9   5     NaN       sub6  Betty",
      "text/html": "<div>\n<style scoped>\n    .dataframe tbody tr th:only-of-type {\n        vertical-align: middle;\n    }\n\n    .dataframe tbody tr th {\n        vertical-align: top;\n    }\n\n    .dataframe thead th {\n        text-align: right;\n    }\n</style>\n<table border=\"1\" class=\"dataframe\">\n  <thead>\n    <tr style=\"text-align: right;\">\n      <th></th>\n      <th>id</th>\n      <th>Name1</th>\n      <th>subject_id</th>\n      <th>Name2</th>\n    </tr>\n  </thead>\n  <tbody>\n    <tr>\n      <th>0</th>\n      <td>1</td>\n      <td>Alex</td>\n      <td>sub1</td>\n      <td>NaN</td>\n    </tr>\n    <tr>\n      <th>1</th>\n      <td>2</td>\n      <td>Amy</td>\n      <td>sub2</td>\n      <td>NaN</td>\n    </tr>\n    <tr>\n      <th>2</th>\n      <td>3</td>\n      <td>Allen</td>\n      <td>sub4</td>\n      <td>NaN</td>\n    </tr>\n    <tr>\n      <th>3</th>\n      <td>4</td>\n      <td>Alice</td>\n      <td>sub6</td>\n      <td>NaN</td>\n    </tr>\n    <tr>\n      <th>4</th>\n      <td>5</td>\n      <td>Ayoung</td>\n      <td>sub5</td>\n      <td>NaN</td>\n    </tr>\n    <tr>\n      <th>5</th>\n      <td>1</td>\n      <td>NaN</td>\n      <td>sub2</td>\n      <td>Billy</td>\n    </tr>\n    <tr>\n      <th>6</th>\n      <td>2</td>\n      <td>NaN</td>\n      <td>sub4</td>\n      <td>Brian</td>\n    </tr>\n    <tr>\n      <th>7</th>\n      <td>3</td>\n      <td>NaN</td>\n      <td>sub3</td>\n      <td>Bran</td>\n    </tr>\n    <tr>\n      <th>8</th>\n      <td>4</td>\n      <td>NaN</td>\n      <td>sub5</td>\n      <td>Bryce</td>\n    </tr>\n    <tr>\n      <th>9</th>\n      <td>5</td>\n      <td>NaN</td>\n      <td>sub6</td>\n      <td>Betty</td>\n    </tr>\n  </tbody>\n</table>\n</div>"
     },
     "metadata": {},
     "execution_count": 47
    }
   ],
   "source": [
    "df_union = pd.merge(left,right,how='outer')\n",
    "df_union"
   ]
  },
  {
   "cell_type": "code",
   "execution_count": null,
   "metadata": {},
   "outputs": [],
   "source": []
  }
 ]
}